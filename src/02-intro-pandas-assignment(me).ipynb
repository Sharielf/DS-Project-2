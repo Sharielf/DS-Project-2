{
 "cells": [
  {
   "cell_type": "markdown",
   "metadata": {},
   "source": [
    "# Задание"
   ]
  },
  {
   "cell_type": "code",
   "execution_count": 125,
   "metadata": {},
   "outputs": [],
   "source": [
    "import pandas as pd"
   ]
  },
  {
   "cell_type": "markdown",
   "metadata": {},
   "source": [
    "## Task 1"
   ]
  },
  {
   "cell_type": "markdown",
   "metadata": {},
   "source": [
    "Узнай самый часто встречаемый возраст респондентов"
   ]
  },
  {
   "cell_type": "code",
   "execution_count": 1,
   "metadata": {},
   "outputs": [
    {
     "name": "stdout",
     "output_type": "stream",
     "text": [
      "Самый часто встречаемый возраст респондентов 18-21.\n"
     ]
    }
   ],
   "source": [
    "# Импортирование модуля pandas\n",
    "import pandas as pd\n",
    "\n",
    "# Загрузка данных из CSV файла в объект DataFrame\n",
    "df = pd.read_csv('../datasets/kaggle_survey_2022_responses.csv', low_memory=False)\n",
    "\n",
    "# Подсчитывание количества значений для каждого значения из столбца 'Q2' (возраст респондентов)\n",
    "age_counts = df['Q2'].value_counts()\n",
    "\n",
    "# Вычисление значения возраста, который встречается чаще всего\n",
    "most_common_age = age_counts.idxmax()\n",
    "\n",
    "# Вывод на экран самого часто встречающегося возраста\n",
    "print(f\"Самый часто встречаемый возраст респондентов {most_common_age}.\")"
   ]
  },
  {
   "cell_type": "markdown",
   "metadata": {},
   "source": [
    "## Task 2"
   ]
  },
  {
   "cell_type": "markdown",
   "metadata": {},
   "source": [
    "Посчитай долю женщин среди русских участников опроса, которые уже не студенты. Результат округли до двух цифр после запятой"
   ]
  },
  {
   "cell_type": "code",
   "execution_count": 21,
   "metadata": {},
   "outputs": [
    {
     "name": "stdout",
     "output_type": "stream",
     "text": [
      "Доля женщин среди русских участников опроса, которые не студенты: 0.24.\n"
     ]
    }
   ],
   "source": [
    "# Загружаем данные\n",
    "df = pd.read_csv('../datasets/kaggle_survey_2022_responses.csv', low_memory=False)\n",
    "\n",
    "# Фильтруем данные, чтобы получить ответы от Россиян, кто уже не студенты\n",
    "df_filtered = df[(df['Q4'] == 'Russia') & (df['Q5'] != \"Student\")]\n",
    "\n",
    "# Считаем количество женщин в выборке, пропорцию округляем до 2 цифр после знака\n",
    "proportion_women = round(df_filtered['Q3'].value_counts(normalize=True)['Woman'], 2)\n",
    "\n",
    "# Выводим на экран что получилось\n",
    "print(f'Доля женщин среди русских участников опроса, которые не студенты: {proportion_women}.')"
   ]
  },
  {
   "cell_type": "markdown",
   "metadata": {},
   "source": [
    "## Task 3"
   ]
  },
  {
   "cell_type": "markdown",
   "metadata": {},
   "source": [
    "Найди среднее время заполнения опроса в **минутах**. Результат округли до двух знаков после запятой"
   ]
  },
  {
   "cell_type": "code",
   "execution_count": 132,
   "metadata": {},
   "outputs": [
    {
     "name": "stdout",
     "output_type": "stream",
     "text": [
      "The mean survey completion time is 168.17 minutes.\n"
     ]
    }
   ],
   "source": [
    "# Импортирование модуля pandas\n",
    "import pandas as pd \n",
    "\n",
    "# Загрузка данных из CSV файла в объект DataFrame\n",
    "df = pd.read_csv('../datasets/kaggle_survey_2022_responses.csv', low_memory=False)\n",
    "\n",
    "# Фильтрация данных, чтобы исключить строки с заголовками столбцов\n",
    "df = df[df['Duration (in seconds)'] != 'Duration (in seconds)']\n",
    "\n",
    "# Заполнение пропусков в столбце 'Duration (in seconds)' нулями\n",
    "df['Duration (in seconds)'].fillna(0, inplace=True)\n",
    "\n",
    "# Вычисление среднего времени ответа на опросник в минутах \n",
    "# с конвертацией данных в формат float и округлением до двух знаков после запятой\n",
    "mean_time = df['Duration (in seconds)'].astype(float).sum() / (60 * df['Duration (in seconds)'].astype(float).count())\n",
    "mean_time = round(mean_time, 2)\n",
    "\n",
    "# Вывод среднего времени ответа на экран\n",
    "print(f\"The mean survey completion time is {mean_time} minutes.\")"
   ]
  },
  {
   "cell_type": "markdown",
   "metadata": {},
   "source": [
    "## Task 4"
   ]
  },
  {
   "cell_type": "markdown",
   "metadata": {},
   "source": [
    "Выведи топ-3 образовательных курса, которые указали респонденты. P.S Это вопрос Q6"
   ]
  },
  {
   "cell_type": "code",
   "execution_count": 14,
   "metadata": {},
   "outputs": [
    {
     "name": "stdout",
     "output_type": "stream",
     "text": [
      "                                               value  count\n",
      "0                                           Coursera   9699\n",
      "1  University Courses (resulting in a university ...   6780\n",
      "2                               Kaggle Learn Courses   6628\n"
     ]
    }
   ],
   "source": [
    "import pandas as pd\n",
    "\n",
    "# загружаем данные\n",
    "df = pd.read_csv('../datasets/kaggle_survey_2022_responses.csv', low_memory=False)\n",
    "\n",
    "# выбираем только строки опрашиваемых с указанными курсами\n",
    "course_cols = [f'Q6_{i}' for i in range(1, 13)]\n",
    "course_data = df.loc[df[course_cols].notna().any(axis=1), course_cols]\n",
    "\n",
    "# подсчитываем количество упоминаний каждого курса\n",
    "course_counts = course_data.melt().value_counts()\n",
    "\n",
    "# выводим топ-3 курсов\n",
    "course_counts = course_data.melt().value_counts().reset_index(name='count').head(3)\n",
    "print(course_counts[['value', 'count']])"
   ]
  },
  {
   "cell_type": "markdown",
   "metadata": {},
   "source": [
    "## Task 5"
   ]
  },
  {
   "cell_type": "markdown",
   "metadata": {},
   "source": [
    "Узнай топ-5 языков программирования, которые регулярно используют Data Scientists в своей работе"
   ]
  },
  {
   "cell_type": "code",
   "execution_count": 4,
   "metadata": {},
   "outputs": [
    {
     "name": "stdout",
     "output_type": "stream",
     "text": [
      "топ-5 языков программирования, которые регулярно используют Data Scientists\n",
      "Python        1808\n",
      "SQL           1140\n",
      "R              530\n",
      "Bash           248\n",
      "Javascript     187\n",
      "Name: value, dtype: int64\n"
     ]
    }
   ],
   "source": [
    "import pandas as pd\n",
    "\n",
    "# загрузка данных из CSV-файла\n",
    "df = pd.read_csv('../datasets/kaggle_survey_2022_responses.csv', low_memory=False)\n",
    "\n",
    "# отбираем строки по специальности Data Scientist\n",
    "DS = df[(df['Q23']=='Data Scientist')]\n",
    "\n",
    "#Объединяем все колонки Q12 в одну\n",
    "q12_columns = [col for col in DS.columns if col.startswith('Q12')]                 \n",
    "\n",
    "# считаем языки по объединенным колонкам\n",
    "language = DS[q12_columns].melt()\n",
    "\n",
    "print('топ-5 языков программирования, которые регулярно используют Data Scientists')\n",
    "print(language['value'].value_counts().iloc[:5])                                \n"
   ]
  },
  {
   "cell_type": "markdown",
   "metadata": {},
   "source": [
    "## Task 6"
   ]
  },
  {
   "cell_type": "markdown",
   "metadata": {},
   "source": [
    "Узнай средний доход среди 'Data Scientist' специалистов и средний доход среди 'Machine Learning/ MLops Engineer' \\\n",
    "Т.к. в колонке Q29 указан промежуток, то возьми среднее значение из промежутка. \n",
    "\n",
    "Например: \n",
    "- '15,000-19,999' - 17500, \n",
    "- '125,000-149,999' - 137500. \n",
    "- \\> $1,000,000 - оставляем 1000000\n",
    "\n",
    "Средние доход **округли до целого.**"
   ]
  },
  {
   "cell_type": "code",
   "execution_count": 5,
   "metadata": {},
   "outputs": [
    {
     "name": "stdout",
     "output_type": "stream",
     "text": [
      "Средний доход Data Scientist: $70337\n",
      "Средний доход Machine Learning/MLops Engineer: $67438\n"
     ]
    }
   ],
   "source": [
    "import pandas as pd\n",
    "import math\n",
    "\n",
    "# загрузка данных из CSV-файла\n",
    "df = pd.read_csv('../datasets/kaggle_survey_2022_responses.csv', low_memory=False)\n",
    "\n",
    "# выберем только строки, в которых пользователи указали свою специальность 'Dsts Scientist'\n",
    "ds_data = df.loc[df['Q23'] == 'Data Scientist']\n",
    "\n",
    "# выберем только строки, в которых пользователи указали специальность 'Machine Learning/ MLops Engineer'\n",
    "mlops_data = df.loc[df['Q23'] == 'Machine Learning/ MLops Engineer']\n",
    "\n",
    "# функция для вычисления среднего значения из диапазона\n",
    "def average_range(range_str):\n",
    "    if range_str == '$100,000 or more ($USD)':\n",
    "        return 1000000\n",
    "    else:\n",
    "        range_str = range_str.replace(',', '').replace('$', '').replace('<', '').replace('>', '').replace('+', '')\n",
    "        range_list = range_str.split('-')\n",
    "        lower = int(range_list[0].strip())\n",
    "        upper = int(range_list[1].strip()) if len(range_list) > 1 else lower\n",
    "        return (lower + upper) / 2\n",
    "\n",
    "# вычисление среднего дохода Data Scientists\n",
    "ds_salary = math.ceil(ds_data['Q29'].dropna().apply(average_range).mean())\n",
    "\n",
    "# вычисление среднего дохода Machine Learning/MLops Engineers\n",
    "mlops_salary = math.ceil(mlops_data['Q29'].dropna().apply(average_range).mean())\n",
    "\n",
    "# вывод результатов\n",
    "print(f'Средний доход Data Scientist: ${ds_salary}')\n",
    "print(f'Средний доход Machine Learning/MLops Engineer: ${mlops_salary}')"
   ]
  },
  {
   "cell_type": "markdown",
   "metadata": {},
   "source": [
    "## Дополнительно"
   ]
  },
  {
   "cell_type": "markdown",
   "metadata": {},
   "source": [
    "Найди какой-нибудь интересный инсайт из этих данных. Пиши свои интересные инсайты в чат проекта с хэштегом.\n",
    "#инсайт\n",
    "\n",
    "Автор самого интересного инсайта получит p2p баллы. Поверь, они тебе понадобятся"
   ]
  },
  {
   "cell_type": "code",
   "execution_count": null,
   "metadata": {},
   "outputs": [],
   "source": []
  }
 ],
 "metadata": {
  "kernelspec": {
   "display_name": "Python 3 (ipykernel)",
   "language": "python",
   "name": "python3"
  },
  "language_info": {
   "codemirror_mode": {
    "name": "ipython",
    "version": 3
   },
   "file_extension": ".py",
   "mimetype": "text/x-python",
   "name": "python",
   "nbconvert_exporter": "python",
   "pygments_lexer": "ipython3",
   "version": "3.10.9"
  }
 },
 "nbformat": 4,
 "nbformat_minor": 4
}
