{
 "cells": [
  {
   "cell_type": "markdown",
   "metadata": {},
   "source": [
    "# Задание"
   ]
  },
  {
   "cell_type": "code",
   "execution_count": 1,
   "metadata": {},
   "outputs": [],
   "source": [
    "import pandas as pd\n",
    "import numpy as np"
   ]
  },
  {
   "cell_type": "code",
   "execution_count": 2,
   "metadata": {},
   "outputs": [
    {
     "name": "stderr",
     "output_type": "stream",
     "text": [
      "C:\\Users\\evpet\\AppData\\Local\\Temp\\ipykernel_1548\\1197156356.py:1: DtypeWarning: Columns (0,208,225,255,257,260,270,271,277) have mixed types. Specify dtype option on import or set low_memory=False.\n",
      "  data = pd.read_csv('../datasets/kaggle_survey_2022_responses.csv')\n"
     ]
    }
   ],
   "source": [
    "data = pd.read_csv('../datasets/kaggle_survey_2022_responses.csv')\n",
    "data.drop(0, inplace=True)"
   ]
  },
  {
   "cell_type": "markdown",
   "metadata": {},
   "source": [
    "## Task 1"
   ]
  },
  {
   "cell_type": "markdown",
   "metadata": {},
   "source": [
    "Узнай самый часто встречаемый возраст респондентов"
   ]
  },
  {
   "cell_type": "code",
   "execution_count": 3,
   "metadata": {},
   "outputs": [
    {
     "name": "stdout",
     "output_type": "stream",
     "text": [
      "самый часто встречаемый возраст респондентов: 18-21\n"
     ]
    }
   ],
   "source": [
    "print('самый часто встречаемый возраст респондентов:', data['Q2'].value_counts().idxmax())"
   ]
  },
  {
   "cell_type": "markdown",
   "metadata": {},
   "source": [
    "## Task 2"
   ]
  },
  {
   "cell_type": "markdown",
   "metadata": {},
   "source": [
    "Посчитай долю женщин среди русских участников опроса, которые уже не студенты. Результат округли до двух цифр после запятой"
   ]
  },
  {
   "cell_type": "code",
   "execution_count": 4,
   "metadata": {},
   "outputs": [
    {
     "name": "stdout",
     "output_type": "stream",
     "text": [
      "доля женщин среди русских участников опроса, которые уже не студенты: 0.24\n"
     ]
    }
   ],
   "source": [
    "print('доля женщин среди русских участников опроса, которые уже не студенты:', round(len(data[\n",
    "    data['Q3'].str.contains('Woman') &\n",
    "    data['Q4'].str.contains('Russia') &\n",
    "    data['Q5'].str.contains('No')\n",
    "]) / len(data[\n",
    "    data['Q4'].str.contains('Russia') &\n",
    "    data['Q5'].str.contains('No')\n",
    "]), 2))"
   ]
  },
  {
   "cell_type": "markdown",
   "metadata": {},
   "source": [
    "## Task 3"
   ]
  },
  {
   "cell_type": "markdown",
   "metadata": {},
   "source": [
    "Найди среднее время заполнения опроса в **минутах**. Результат округли до двух знаков после запятой"
   ]
  },
  {
   "cell_type": "code",
   "execution_count": 5,
   "metadata": {},
   "outputs": [
    {
     "name": "stdout",
     "output_type": "stream",
     "text": [
      "среднее время заполнения опроса: 168.17 минут\n"
     ]
    }
   ],
   "source": [
    "data['Duration (in seconds)'] = data['Duration (in seconds)'].astype(int)\n",
    "print('среднее время заполнения опроса: %s минут' % round(data['Duration (in seconds)'].mean() / 60, 2))"
   ]
  },
  {
   "cell_type": "markdown",
   "metadata": {},
   "source": [
    "## Task 4"
   ]
  },
  {
   "cell_type": "markdown",
   "metadata": {},
   "source": [
    "Выведи топ-3 образовательных курса, которые указали респонденты. P.S Это вопрос Q6"
   ]
  },
  {
   "cell_type": "code",
   "execution_count": 6,
   "metadata": {},
   "outputs": [
    {
     "data": {
      "text/plain": [
       "Coursera                                                 9699\n",
       "University Courses (resulting in a university degree)    6780\n",
       "Kaggle Learn Courses                                     6628\n",
       "Name: value, dtype: int64"
      ]
     },
     "execution_count": 6,
     "metadata": {},
     "output_type": "execute_result"
    }
   ],
   "source": [
    "q6_columns = [col for col in data.columns if col.startswith('Q6')]\n",
    "platforms = data[q6_columns].melt(var_name='вопрос', value_vars=q6_columns)\n",
    "platforms['value'].value_counts().iloc[:3]"
   ]
  },
  {
   "cell_type": "markdown",
   "metadata": {},
   "source": [
    "## Task 5"
   ]
  },
  {
   "cell_type": "markdown",
   "metadata": {},
   "source": [
    "Узнай топ-5 языков программирования, которые регулярно используют Data Scientists в своей работе"
   ]
  },
  {
   "cell_type": "code",
   "execution_count": 7,
   "metadata": {},
   "outputs": [
    {
     "data": {
      "text/plain": [
       "Python        1808\n",
       "SQL           1140\n",
       "R              530\n",
       "Bash           248\n",
       "Javascript     187\n",
       "Name: value, dtype: int64"
      ]
     },
     "execution_count": 7,
     "metadata": {},
     "output_type": "execute_result"
    }
   ],
   "source": [
    "ds = data[\n",
    "    data['Q23'].str.contains('Data Scientist', na=False) \n",
    "]\n",
    "q12_columns = [col for col in ds.columns if col.startswith('Q12')]\n",
    "platforms = ds[q12_columns].melt(var_name='вопрос', value_vars=q12_columns)\n",
    "platforms['value'].value_counts().iloc[:5]"
   ]
  },
  {
   "cell_type": "markdown",
   "metadata": {},
   "source": [
    "## Task 6"
   ]
  },
  {
   "cell_type": "markdown",
   "metadata": {},
   "source": [
    "Узнай средний доход среди 'Data Scientist' специалистов и средний доход среди 'Machine Learning/ MLops Engineer' \\\n",
    "Т.к. в колонке Q29 указан промежуток, то возьми среднее значение из промежутка. \n",
    "\n",
    "Например: \n",
    "- '15,000-19,999' - 17500, \n",
    "- '125,000-149,999' - 137500. \n",
    "- \\> $1,000,000 - оставляем 1000000\n",
    "\n",
    "Средние доход **округли до целого.**"
   ]
  },
  {
   "cell_type": "code",
   "execution_count": 8,
   "metadata": {},
   "outputs": [
    {
     "name": "stdout",
     "output_type": "stream",
     "text": [
      "средняя зарплата Data Scientist: Q29-NEW    70337.0\n",
      "Name: Data Scientist, dtype: float64\n",
      "средняя зарплата Machine Learning/ MLops Engineer: Q29-NEW    67438.0\n",
      "Name: Machine Learning/ MLops Engineer, dtype: float64\n"
     ]
    }
   ],
   "source": [
    "d = data[\n",
    "    data['Q23'].str.contains('Data Scientist') |\n",
    "    data['Q23'].str.contains('Machine Learning/ MLops Engineer')\n",
    "]\n",
    "s = {\n",
    "    '$0-999': 500, '10,000-14,999': 12500, '30,000-39,999': 35000, '1,000-1,999': 1500, '40,000-49,999': 45000, \n",
    "    '100,000-124,999': 112500, '5,000-7,499': 6250, '50,000-59,999': 55000, '7,500-9,999': 8750, '150,000-199,999': 175000,\n",
    "    '20,000-24,999': 22500, '60,000-69,999': 65000, '15,000-19,999': 17500, '70,000-79,999': 75000, '25,000-29,999': 27500,\n",
    "    '2,000-2,999': 2500, '125,000-149,999': 137500, '3,000-3,999': 3500, '4,000-4,999': 4500, '80,000-89,999': 85000, \n",
    "    '90,000-99,999': 95000, '200,000-249,999': 225000, '250,000-299,999': 275000, '300,000-499,999': 400000, \n",
    "    '$500,000-999,999': 750000, '>$1,000,000': 1000000                  \n",
    "}\n",
    "data['Q29-NEW'] = data['Q29'].map(s)\n",
    "ss = data[['Q23', 'Q29-NEW']].dropna()\n",
    "av = round(ss.groupby(['Q23']).mean().sort_values('Q29-NEW', ascending=False))\n",
    "print('средняя зарплата Data Scientist:', av.iloc[4])\n",
    "print('средняя зарплата Machine Learning/ MLops Engineer:', av.iloc[5])\n"
   ]
  },
  {
   "cell_type": "markdown",
   "metadata": {},
   "source": [
    "## Дополнительно"
   ]
  },
  {
   "cell_type": "markdown",
   "metadata": {},
   "source": [
    "Найди какой-нибудь интересный инсайт из этих данных. Пиши свои интересные инсайты в чат проекта с хэштегом.\n",
    "#инсайт\n",
    "\n",
    "Автор самого интересного инсайта получит p2p баллы. Поверь, они тебе понадобятся"
   ]
  },
  {
   "cell_type": "code",
   "execution_count": 9,
   "metadata": {},
   "outputs": [
    {
     "data": {
      "text/plain": [
       "YouTube (Kaggle YouTube, Cloud AI Adventures, etc)                            11957\n",
       "Kaggle (notebooks, forums, etc)                                               11181\n",
       "Blogs (Towards Data Science, Analytics Vidhya, etc)                            7766\n",
       "Course Forums (forums.fast.ai, Coursera forums, etc)                           4006\n",
       "Twitter (data science influencers)                                             3995\n",
       "Journal Publications (peer-reviewed journals, conference proceedings, etc)     3804\n",
       "Email newsletters (Data Elixir, O'Reilly Data & AI, etc)                       3787\n",
       "Reddit (r/machinelearning, etc)                                                2678\n",
       "Podcasts (Chai Time Data Science, O’Reilly Data Show, etc)                     2120\n",
       "Slack Communities (ods.ai, kagglenoobs, etc)                                   1726\n",
       "Name: value, dtype: int64"
      ]
     },
     "execution_count": 9,
     "metadata": {},
     "output_type": "execute_result"
    }
   ],
   "source": [
    "q44_columns = [col for col in data.columns if col.startswith('Q44')]\n",
    "platforms = data[q44_columns].melt(var_name='вопрос', value_vars=q44_columns)\n",
    "platforms['value'].value_counts().iloc[:10]"
   ]
  }
 ],
 "metadata": {
  "kernelspec": {
   "display_name": "Python 3 (ipykernel)",
   "language": "python",
   "name": "python3"
  },
  "language_info": {
   "codemirror_mode": {
    "name": "ipython",
    "version": 3
   },
   "file_extension": ".py",
   "mimetype": "text/x-python",
   "name": "python",
   "nbconvert_exporter": "python",
   "pygments_lexer": "ipython3",
   "version": "3.10.9"
  }
 },
 "nbformat": 4,
 "nbformat_minor": 4
}
