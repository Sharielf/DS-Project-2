{
 "cells": [
  {
   "cell_type": "code",
   "execution_count": 4,
   "id": "a8b1401e",
   "metadata": {},
   "outputs": [
    {
     "name": "stdout",
     "output_type": "stream",
     "text": [
      "variable  value                                                \n",
      "Q6_1      Coursera                                                 9699\n",
      "Q6_10     University Courses (resulting in a university degree)    6780\n",
      "Q6_3      Kaggle Learn Courses                                     6628\n",
      "dtype: int64\n"
     ]
    }
   ],
   "source": [
    "import pandas as pd\n",
    "\n",
    "# загружаем данные\n",
    "df = pd.read_csv('../datasets/kaggle_survey_2022_responses.csv', low_memory=False)\n",
    "\n",
    "# выбираем только строки опрашиваемых с указанными курсами\n",
    "course_cols = [f'Q6_{i}' for i in range(1, 13)]\n",
    "course_data = df.loc[df[course_cols].notna().any(axis=1), course_cols]\n",
    "\n",
    "# подсчитываем количество упоминаний каждого курса\n",
    "course_counts = course_data.melt().value_counts()\n",
    "\n",
    "# выводим топ-3 курсов\n",
    "print(course_counts.head(3))"
   ]
  },
  {
   "cell_type": "code",
   "execution_count": 7,
   "id": "fb161068",
   "metadata": {},
   "outputs": [
    {
     "name": "stdout",
     "output_type": "stream",
     "text": [
      "variable  value \n",
      "Q12_1     Python    18653\n",
      "Q12_3     SQL        9620\n",
      "Q12_2     R          4571\n",
      "Q12_6     C++        4549\n",
      "Q12_7     Java       3862\n",
      "dtype: int64\n"
     ]
    }
   ],
   "source": [
    "import pandas as pd\n",
    "\n",
    "# загружаем данные\n",
    "df = pd.read_csv('../datasets/kaggle_survey_2022_responses.csv', low_memory=False)\n",
    "\n",
    "# выбираем только строки опрашиваемых с указанными языками программирования\n",
    "lang_cols = [f'Q12_{i}' for i in range(1, 16)]\n",
    "lang_data = df.loc[df[lang_cols].notna().any(axis=1), lang_cols]\n",
    "\n",
    "# подсчитываем количество упоминаний каждого языка\n",
    "lang_counts = lang_data.melt().value_counts()\n",
    "\n",
    "# выводим топ-5 языков программирования\n",
    "print(lang_counts.head(5))"
   ]
  },
  {
   "cell_type": "code",
   "execution_count": 10,
   "id": "85d9affd",
   "metadata": {},
   "outputs": [
    {
     "name": "stdout",
     "output_type": "stream",
     "text": [
      "  Язык программирования  Количество упоминаний\n",
      "1                Python                  18653\n",
      "2                   SQL                   9620\n",
      "3                     R                   4571\n",
      "4                   C++                   4549\n",
      "5                  Java                   3862\n"
     ]
    }
   ],
   "source": [
    "import pandas as pd\n",
    "\n",
    "# загрузка данных из CSV-файла\n",
    "df = pd.read_csv('../datasets/kaggle_survey_2022_responses.csv', low_memory=False)\n",
    "\n",
    "# выбираем только строки опрашиваемых с указанными языками программирования\n",
    "lang_cols = [f'Q12_{i}' for i in range(1, 16)]\n",
    "lang_data = df.loc[df[lang_cols].notna().any(axis=1), lang_cols]\n",
    "\n",
    "# подсчитываем количество упоминаний каждого языка\n",
    "lang_counts = lang_data.melt().value_counts()\n",
    "\n",
    "# преобразуем объект Series в датафрейм\n",
    "lang_df = pd.DataFrame({'Язык программирования': lang_counts.index.get_level_values(1), 'Количество упоминаний': lang_counts})\n",
    "\n",
    "# отсортировать таблицу по количеству упоминаний языков\n",
    "lang_df = lang_df.sort_values(by='Количество упоминаний', ascending=False)\n",
    "\n",
    "# выводим только топ-5 языков программирования\n",
    "top_lang_df = lang_df.head(5)\n",
    "top_lang_df.index = range(1, 6)\n",
    "print(top_lang_df.to_string(index=True))"
   ]
  },
  {
   "cell_type": "code",
   "execution_count": 5,
   "id": "13681665",
   "metadata": {},
   "outputs": [
    {
     "name": "stdout",
     "output_type": "stream",
     "text": [
      "1. Q6_1: 1 упоминаний\n",
      "2. Q6_2: 1 упоминаний\n",
      "3. Q6_3: 1 упоминаний\n"
     ]
    }
   ],
   "source": [
    "import pandas as pd\n",
    "# загрузка данных из файла\n",
    "data = pd.read_csv('../datasets/kaggle_survey_2022_responses.csv', low_memory=False)\n",
    "\n",
    "# выборка только столбцов с ответами на вопрос Q6 (образовательные курсы)\n",
    "q6_columns = [col for col in data.columns if col.startswith('Q6')]\n",
    "\n",
    "# создание словаря для подсчета количества упоминаний каждого курса\n",
    "courses = {}\n",
    "for response in q6_columns:\n",
    "    if isinstance(response, str):\n",
    "        courses_list = response.split(', ')\n",
    "        for course in courses_list:\n",
    "            course = course.strip()\n",
    "            courses[course] = courses.get(course, 0) + 1\n",
    "\n",
    "# сортировка курсов по убыванию количества упоминаний и вывод топ-3\n",
    "top_courses = sorted(courses.items(), key=lambda x: x[1], reverse=True)[:3]\n",
    "for i, (course, count) in enumerate(top_courses):\n",
    "    print(f'{i+1}. {course}: {count} упоминаний')"
   ]
  },
  {
   "cell_type": "code",
   "execution_count": 11,
   "id": "9df99646",
   "metadata": {},
   "outputs": [
    {
     "name": "stdout",
     "output_type": "stream",
     "text": [
      "Средний доход Data Scientist: $70337\n",
      "Средний доход Machine Learning/MLops Engineer: $67438\n"
     ]
    }
   ],
   "source": [
    "import pandas as pd\n",
    "import math\n",
    "\n",
    "# загрузка данных из CSV-файла\n",
    "df = pd.read_csv('../datasets/kaggle_survey_2022_responses.csv', low_memory=False)\n",
    "\n",
    "# установим показатель отображения всех столбцов\n",
    "pd.set_option('display.max_columns', None)\n",
    "\n",
    "# выберем только строки, в которых пользователи указали свою должность\n",
    "ds_data = df.loc[df['Q23'] == 'Data Scientist']\n",
    "\n",
    "# выберем только строки, в которых пользователи указали специальность 'Machine Learning/ MLops Engineer'\n",
    "mlops_data = df.loc[df['Q23'] == 'Machine Learning/ MLops Engineer']\n",
    "\n",
    "# функция для вычисления среднего значения из диапазона\n",
    "def average_range(range_str):\n",
    "    if range_str == '$100,000 or more ($USD)':\n",
    "        return 1000000\n",
    "    else:\n",
    "        range_str = range_str.replace(',', '').replace('$', '').replace('<', '').replace('>', '').replace('+', '')\n",
    "        range_list = range_str.split('-')\n",
    "        lower = int(range_list[0].strip())\n",
    "        upper = int(range_list[1].strip()) if len(range_list) > 1 else lower\n",
    "        return (lower + upper) / 2\n",
    "\n",
    "# вычисление среднего дохода Data Scientists\n",
    "ds_salary = math.ceil(ds_data['Q29'].dropna().apply(average_range).mean())\n",
    "\n",
    "# вычисление среднего дохода Machine Learning/MLops Engineers\n",
    "mlops_salary = math.ceil(mlops_data['Q29'].dropna().apply(average_range).mean())\n",
    "\n",
    "# вывод результатов\n",
    "print(f'Средний доход Data Scientist: ${ds_salary}')\n",
    "print(f'Средний доход Machine Learning/MLops Engineer: ${mlops_salary}')"
   ]
  }
 ],
 "metadata": {
  "kernelspec": {
   "display_name": "Python 3 (ipykernel)",
   "language": "python",
   "name": "python3"
  },
  "language_info": {
   "codemirror_mode": {
    "name": "ipython",
    "version": 3
   },
   "file_extension": ".py",
   "mimetype": "text/x-python",
   "name": "python",
   "nbconvert_exporter": "python",
   "pygments_lexer": "ipython3",
   "version": "3.10.9"
  }
 },
 "nbformat": 4,
 "nbformat_minor": 5
}
